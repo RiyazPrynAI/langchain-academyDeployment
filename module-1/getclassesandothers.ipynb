{
 "cells": [
  {
   "cell_type": "code",
   "execution_count": 1,
   "id": "b6d175a6",
   "metadata": {},
   "outputs": [],
   "source": [
    "import inspect\n",
    "import langchain_core.messages as messages"
   ]
  },
  {
   "cell_type": "code",
   "execution_count": 2,
   "id": "e5e5c745",
   "metadata": {},
   "outputs": [
    {
     "name": "stdout",
     "output_type": "stream",
     "text": [
      "CLASSES:\n"
     ]
    }
   ],
   "source": [
    "# All classes in the module\n",
    "classes = inspect.getmembers(messages, inspect.isclass)\n",
    "print(\"CLASSES:\")\n",
    "for name, obj in classes:\n",
    "    # Optional: filter to only classes actually defined in this module\n",
    "    if obj.__module__ == messages.__name__:\n",
    "        print(name)"
   ]
  },
  {
   "cell_type": "code",
   "execution_count": 3,
   "id": "ea79757d",
   "metadata": {},
   "outputs": [
    {
     "name": "stdout",
     "output_type": "stream",
     "text": [
      "\n",
      "FUNCTIONS:\n"
     ]
    }
   ],
   "source": [
    "\n",
    "# All functions in the module\n",
    "funcs = inspect.getmembers(messages, inspect.isfunction)\n",
    "print(\"\\nFUNCTIONS:\")\n",
    "for name, obj in funcs:\n",
    "    if obj.__module__ == messages.__name__:\n",
    "        print(name)"
   ]
  }
 ],
 "metadata": {
  "kernelspec": {
   "display_name": "lc-academy-env",
   "language": "python",
   "name": "python3"
  },
  "language_info": {
   "codemirror_mode": {
    "name": "ipython",
    "version": 3
   },
   "file_extension": ".py",
   "mimetype": "text/x-python",
   "name": "python",
   "nbconvert_exporter": "python",
   "pygments_lexer": "ipython3",
   "version": "3.11.0"
  }
 },
 "nbformat": 4,
 "nbformat_minor": 5
}
