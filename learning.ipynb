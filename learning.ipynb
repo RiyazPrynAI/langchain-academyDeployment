{
 "cells": [
  {
   "cell_type": "code",
   "execution_count": 1,
   "id": "2ebeed53",
   "metadata": {},
   "outputs": [
    {
     "name": "stdout",
     "output_type": "stream",
     "text": [
      "{'messages': ['  hello  ', 'world'], 'done': False}\n"
     ]
    }
   ],
   "source": [
    "from typing_extensions import TypedDict\n",
    "\n",
    "class State(TypedDict):\n",
    "    messages: list[str]\n",
    "    done: bool\n",
    "\n",
    "def trim_last(state: State) -> State:\n",
    "    # Return a NEW dict (good practice in LangGraph merges)\n",
    "    msgs = state[\"messages\"]\n",
    "    if msgs:\n",
    "        return {\"messages\": msgs[:-1] + [msgs[-1].strip()], \"done\": state[\"done\"]}\n",
    "    return state\n",
    "\n",
    "# DATA\n",
    "s1: State = {\"messages\": [\"  hello  \", \"  world  \"], \"done\": False}\n",
    "print(trim_last(s1))\n",
    "# OUTPUT: {'messages': ['  hello  ', 'world'], 'done': False}\n"
   ]
  },
  {
   "cell_type": "code",
   "execution_count": 5,
   "id": "ef7bc800",
   "metadata": {},
   "outputs": [
    {
     "name": "stdout",
     "output_type": "stream",
     "text": [
      "{'messages': ['a', 'b'], 'done': False}\n",
      "{'notes': None}\n"
     ]
    }
   ],
   "source": [
    "from typing import Optional\n",
    "from typing_extensions import TypedDict, NotRequired\n",
    "\n",
    "class AgentState(TypedDict):\n",
    "    messages:list[str]\n",
    "    done:bool\n",
    "class FlexibleSate(TypedDict):\n",
    "    notes:Optional[str]\n",
    "    meta:NotRequired[dict]\n",
    "\n",
    "s_ok:AgentState={\"messages\": [\"a\", \"b\"], \"done\": False}\n",
    "print(s_ok)\n",
    "\n",
    "f_ok:FlexibleSate = {\"notes\": None}\n",
    "print(f_ok)\n",
    "\n"
   ]
  },
  {
   "cell_type": "code",
   "execution_count": 7,
   "id": "70231c34",
   "metadata": {},
   "outputs": [
    {
     "name": "stdout",
     "output_type": "stream",
     "text": [
      "{}\n",
      "{'error': 'no result'}\n"
     ]
    }
   ],
   "source": [
    "class MaybeError(TypedDict, total=False):\n",
    "    error: str\n",
    "    code: int\n",
    "\n",
    "payload:MaybeError={}\n",
    "print(payload)\n",
    "payload[\"error\"]=\"no result\"\n",
    "print(payload)"
   ]
  },
  {
   "cell_type": "code",
   "execution_count": 8,
   "id": "50e67136",
   "metadata": {},
   "outputs": [
    {
     "name": "stdout",
     "output_type": "stream",
     "text": [
      "{'mode': 'draft', 'messages': ['hello', 'world']}\n"
     ]
    }
   ],
   "source": [
    "from typing import Literal\n",
    "\n",
    "class ModeState(TypedDict):\n",
    "    mode:Literal[\"draft\",\"final\"]\n",
    "    messages:list[str]\n",
    "\n",
    "m:ModeState = {\"mode\": \"draft\", \"messages\": [\"hello\", \"world\"]}\n",
    "print(m)"
   ]
  },
  {
   "cell_type": "code",
   "execution_count": 9,
   "id": "402aa709",
   "metadata": {},
   "outputs": [
    {
     "name": "stdout",
     "output_type": "stream",
     "text": [
      "{'messages': ['hi', 'there '], 'done': True}\n"
     ]
    }
   ],
   "source": [
    "from typing_extensions import TypedDict\n",
    "\n",
    "class State(TypedDict):\n",
    "    messages:list[str]\n",
    "    done:bool\n",
    "def last_nonempty_marks_done(state:State)->State:\n",
    "    msgs=state[\"messages\"]\n",
    "    if msgs and msgs[-1].strip():\n",
    "        return{\"messages\":msgs,\"done\":True}\n",
    "    return state\n",
    "# DATA\n",
    "s={\"messages\":[\"hi\",\"there \"],\"done\":False}\n",
    "print(last_nonempty_marks_done(s))"
   ]
  },
  {
   "cell_type": "code",
   "execution_count": 11,
   "id": "da6fd509",
   "metadata": {},
   "outputs": [
    {
     "name": "stdout",
     "output_type": "stream",
     "text": [
      "{'error': 'timeout', 'retries': 1}\n"
     ]
    }
   ],
   "source": [
    "class WithOptional(TypedDict, total=False):\n",
    "    error:str\n",
    "    retries:int\n",
    "def maybe_fail(state:WithOptional)->WithOptional:\n",
    "    state[\"error\"]=\"timeout\"\n",
    "    state[\"retries\"]=state.get(\"retries\",0)+1\n",
    "    return state\n",
    "\n",
    "w: WithOptional={}\n",
    "print(maybe_fail(w))"
   ]
  },
  {
   "cell_type": "code",
   "execution_count": 13,
   "id": "cdeecef7",
   "metadata": {},
   "outputs": [
    {
     "name": "stdout",
     "output_type": "stream",
     "text": [
      "{'messages': ['ok'], 'done': False, 'meta': {'source': 'agent', 'run_id': 1}}\n"
     ]
    }
   ],
   "source": [
    "from typing_extensions import NotRequired, TypedDict\n",
    "\n",
    "class AgentState(TypedDict):\n",
    "    messages:list[str]\n",
    "    done:bool\n",
    "    meta:NotRequired[dict]\n",
    "\n",
    "def ensure_meta(state:AgentState)->AgentState:\n",
    "    if \"meta\" not in state:\n",
    "        return {**state, \"meta\":{\"source\":\"agent\",\"run_id\":1}}\n",
    "    return state\n",
    "\n",
    "a:AgentState={\"messages\":[\"ok\"],\"done\":False}\n",
    "print(ensure_meta(a))"
   ]
  },
  {
   "cell_type": "code",
   "execution_count": 16,
   "id": "684372eb",
   "metadata": {},
   "outputs": [
    {
     "name": "stdout",
     "output_type": "stream",
     "text": [
      "{'messages': ['searching...'], 'last_tool': {'name': 'search', 'args': {'q': 'langgraph'}}}\n"
     ]
    }
   ],
   "source": [
    "class ToolCall(TypedDict):\n",
    "    name:str\n",
    "    args:dict\n",
    "class ToolingState(TypedDict):\n",
    "    messages:list[str]\n",
    "    last_tool:NotRequired[ToolCall]\n",
    "def remember_tool(state:ToolingState, call:ToolCall)->ToolingState:\n",
    "    return {**state, \"last_tool\":call}\n",
    "\n",
    "st:ToolingState={\"messages\":[\"searching...\"]}\n",
    "tc:ToolCall={\"name\":\"search\",\"args\":{\"q\":\"langgraph\"}}\n",
    "print(remember_tool(st,tc))"
   ]
  },
  {
   "cell_type": "code",
   "execution_count": 5,
   "id": "65c89b80",
   "metadata": {},
   "outputs": [
    {
     "name": "stdout",
     "output_type": "stream",
     "text": [
      "True\n",
      "{'x': 1, 'y': 2, 'label': 'good'}\n",
      "{'z': 3, 'label': 'bad'}\n"
     ]
    }
   ],
   "source": [
    "from typing import TypedDict\n",
    "class Point2D(TypedDict):\n",
    "    x: int\n",
    "    y: int\n",
    "    label: str\n",
    "\n",
    "a: Point2D = {'x': 1, 'y': 2, 'label': 'good'}  # OK\n",
    "b: Point2D = {'z': 3, 'label': 'bad'}           # Fails type check\n",
    "\n",
    "print(Point2D(x=1, y=2, label='first') == dict(x=1, y=2, label='first'))\n",
    "\n",
    "print(a)\n",
    "print(b)"
   ]
  }
 ],
 "metadata": {
  "kernelspec": {
   "display_name": "lc-academy-env",
   "language": "python",
   "name": "python3"
  },
  "language_info": {
   "codemirror_mode": {
    "name": "ipython",
    "version": 3
   },
   "file_extension": ".py",
   "mimetype": "text/x-python",
   "name": "python",
   "nbconvert_exporter": "python",
   "pygments_lexer": "ipython3",
   "version": "3.11.0"
  }
 },
 "nbformat": 4,
 "nbformat_minor": 5
}
